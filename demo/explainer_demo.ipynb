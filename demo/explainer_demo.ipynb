{
 "cells": [
  {
   "cell_type": "markdown",
   "metadata": {},
   "source": [
    "## Usage of one explainer\n",
    "\n",
    "Take EFM and Exp_EFM as an example, and use dataset amazon_toy."
   ]
  },
  {
   "cell_type": "code",
   "execution_count": 7,
   "metadata": {},
   "outputs": [
    {
     "name": "stderr",
     "output_type": "stream",
     "text": [
      "/Users/yuky/Desktop/ROSE/cornac/data/dataset.py:335: UserWarning: 66507 duplicated observations are removed!\n",
      "  warnings.warn(\"%d duplicated observations are removed!\" % dup_count)\n"
     ]
    }
   ],
   "source": [
    "from cornac.datasets import ratebeer\n",
    "from cornac.data.reader import Reader\n",
    "from cornac.eval_methods import RatioSplit\n",
    "from cornac.data.sentiment import SentimentModality\n",
    "from cornac.models import EFM\n",
    "from cornac.explainer import Exp_EFM\n",
    "from importlib import resources\n",
    "\n",
    "fpath_rating = resources.files(\"cornac.datasets\").joinpath(\"RateBeer/ratebeer_ratings.txt\")\n",
    "fpath_sentiment = resources.files(\"cornac.datasets\").joinpath(\"RateBeer/ratebeer_lexicon.txt\")\n",
    "\n",
    "# Load the Amazon toy dataset\n",
    "rating = ratebeer.load_feedback(fpath=fpath_rating,fmt=\"UIR\", reader=Reader(min_user_freq=20))\n",
    "sentiment_data = ratebeer.load_sentiment(fpath=fpath_sentiment,reader=Reader(min_user_freq=20))\n",
    "md = SentimentModality(data=sentiment_data)\n",
    "\n",
    "eval_method = RatioSplit(data=rating, test_size=0, sentiment=md)\n",
    "\n",
    "# Instantiate the EFM model\n",
    "efm = EFM(max_iter=20)\n",
    "efm.fit(eval_method.train_set)\n",
    "\n",
    "# Instantiate the explainer\n",
    "explainer = Exp_EFM(rec_model=efm, dataset=eval_method.train_set)\n"
   ]
  },
  {
   "cell_type": "markdown",
   "metadata": {},
   "source": [
    "### Explain recommendations"
   ]
  },
  {
   "cell_type": "code",
   "execution_count": 8,
   "metadata": {},
   "outputs": [
    {
     "name": "stdout",
     "output_type": "stream",
     "text": [
      "     user_id item_id  prediction\n",
      "0   Ungstrup  145524   10.719967\n",
      "1   Ungstrup  155587   10.699045\n",
      "2   Ungstrup  104527   10.011934\n",
      "3   Ungstrup  150443    9.844995\n",
      "4   Ungstrup  149620    9.842093\n",
      "5   railcat1  155587   12.442008\n",
      "6   railcat1  145524   12.422730\n",
      "7   railcat1  109503   11.860083\n",
      "8   railcat1  162711   11.653749\n",
      "9   railcat1   94919   11.596722\n",
      "10   Butters  155587   10.957694\n",
      "11   Butters  145524   10.713104\n",
      "12   Butters    9320   10.518152\n",
      "13   Butters   18124   10.299882\n",
      "14   Butters  150443   10.155306\n"
     ]
    }
   ],
   "source": [
    "# first, we need some recommendations\n",
    "some_users = eval_method.test_set.user_ids[:3]\n",
    "recomendations = efm.recommend_to_multiple_users(some_users, k=5)\n",
    "print(recomendations)"
   ]
  },
  {
   "cell_type": "code",
   "execution_count": 9,
   "metadata": {},
   "outputs": [
    {
     "name": "stderr",
     "output_type": "stream",
     "text": [
      "Computing explanations: 100%|██████████| 15/15 [00:00<00:00, 21.42it/s]\n"
     ]
    },
    {
     "data": {
      "text/html": [
       "<div>\n",
       "<style scoped>\n",
       "    .dataframe tbody tr th:only-of-type {\n",
       "        vertical-align: middle;\n",
       "    }\n",
       "\n",
       "    .dataframe tbody tr th {\n",
       "        vertical-align: top;\n",
       "    }\n",
       "\n",
       "    .dataframe thead th {\n",
       "        text-align: right;\n",
       "    }\n",
       "</style>\n",
       "<table border=\"1\" class=\"dataframe\">\n",
       "  <thead>\n",
       "    <tr style=\"text-align: right;\">\n",
       "      <th></th>\n",
       "      <th>user_id</th>\n",
       "      <th>item_id</th>\n",
       "      <th>prediction</th>\n",
       "      <th>explanations</th>\n",
       "    </tr>\n",
       "  </thead>\n",
       "  <tbody>\n",
       "    <tr>\n",
       "      <th>0</th>\n",
       "      <td>Ungstrup</td>\n",
       "      <td>145524</td>\n",
       "      <td>10.719967</td>\n",
       "      <td>{'sprawlers': 8.232754, 'peewater': 7.7269483,...</td>\n",
       "    </tr>\n",
       "    <tr>\n",
       "      <th>1</th>\n",
       "      <td>Ungstrup</td>\n",
       "      <td>155587</td>\n",
       "      <td>10.699045</td>\n",
       "      <td>{'sprawlers': 8.3330555, 'peewater': 8.8262615...</td>\n",
       "    </tr>\n",
       "    <tr>\n",
       "      <th>2</th>\n",
       "      <td>Ungstrup</td>\n",
       "      <td>104527</td>\n",
       "      <td>10.011934</td>\n",
       "      <td>{'sprawlers': 7.5451374, 'peewater': 8.011711,...</td>\n",
       "    </tr>\n",
       "    <tr>\n",
       "      <th>3</th>\n",
       "      <td>Ungstrup</td>\n",
       "      <td>150443</td>\n",
       "      <td>9.844995</td>\n",
       "      <td>{'sprawlers': 7.917705, 'peewater': 7.823717, ...</td>\n",
       "    </tr>\n",
       "    <tr>\n",
       "      <th>4</th>\n",
       "      <td>Ungstrup</td>\n",
       "      <td>149620</td>\n",
       "      <td>9.842093</td>\n",
       "      <td>{'sprawlers': 8.350597, 'peewater': 7.5099983,...</td>\n",
       "    </tr>\n",
       "    <tr>\n",
       "      <th>5</th>\n",
       "      <td>railcat1</td>\n",
       "      <td>155587</td>\n",
       "      <td>12.442008</td>\n",
       "      <td>{'yummie': 10.32288, 'gostoso': 9.480017, 'tai...</td>\n",
       "    </tr>\n",
       "    <tr>\n",
       "      <th>6</th>\n",
       "      <td>railcat1</td>\n",
       "      <td>145524</td>\n",
       "      <td>12.422730</td>\n",
       "      <td>{'yummie': 7.951337, 'gostoso': 8.787275, 'tai...</td>\n",
       "    </tr>\n",
       "    <tr>\n",
       "      <th>7</th>\n",
       "      <td>railcat1</td>\n",
       "      <td>109503</td>\n",
       "      <td>11.860083</td>\n",
       "      <td>{'yummie': 8.3054905, 'gostoso': 8.919725, 'ta...</td>\n",
       "    </tr>\n",
       "    <tr>\n",
       "      <th>8</th>\n",
       "      <td>railcat1</td>\n",
       "      <td>162711</td>\n",
       "      <td>11.653749</td>\n",
       "      <td>{'yummie': 9.213386, 'gostoso': 8.048883, 'tai...</td>\n",
       "    </tr>\n",
       "    <tr>\n",
       "      <th>9</th>\n",
       "      <td>railcat1</td>\n",
       "      <td>94919</td>\n",
       "      <td>11.596722</td>\n",
       "      <td>{'yummie': 8.223014, 'gostoso': 6.794215, 'tai...</td>\n",
       "    </tr>\n",
       "    <tr>\n",
       "      <th>10</th>\n",
       "      <td>Butters</td>\n",
       "      <td>155587</td>\n",
       "      <td>10.957694</td>\n",
       "      <td>{'usas': 10.942073, 'yummie': 10.32288, 'anti'...</td>\n",
       "    </tr>\n",
       "    <tr>\n",
       "      <th>11</th>\n",
       "      <td>Butters</td>\n",
       "      <td>145524</td>\n",
       "      <td>10.713104</td>\n",
       "      <td>{'usas': 9.348207, 'yummie': 7.951337, 'anti':...</td>\n",
       "    </tr>\n",
       "    <tr>\n",
       "      <th>12</th>\n",
       "      <td>Butters</td>\n",
       "      <td>9320</td>\n",
       "      <td>10.518152</td>\n",
       "      <td>{'usas': 9.357105, 'yummie': 9.095561, 'anti':...</td>\n",
       "    </tr>\n",
       "    <tr>\n",
       "      <th>13</th>\n",
       "      <td>Butters</td>\n",
       "      <td>18124</td>\n",
       "      <td>10.299882</td>\n",
       "      <td>{'usas': 10.106152, 'yummie': 9.908857, 'anti'...</td>\n",
       "    </tr>\n",
       "    <tr>\n",
       "      <th>14</th>\n",
       "      <td>Butters</td>\n",
       "      <td>150443</td>\n",
       "      <td>10.155306</td>\n",
       "      <td>{'usas': 8.153448, 'yummie': 7.16291, 'anti': ...</td>\n",
       "    </tr>\n",
       "  </tbody>\n",
       "</table>\n",
       "</div>"
      ],
      "text/plain": [
       "     user_id item_id  prediction  \\\n",
       "0   Ungstrup  145524   10.719967   \n",
       "1   Ungstrup  155587   10.699045   \n",
       "2   Ungstrup  104527   10.011934   \n",
       "3   Ungstrup  150443    9.844995   \n",
       "4   Ungstrup  149620    9.842093   \n",
       "5   railcat1  155587   12.442008   \n",
       "6   railcat1  145524   12.422730   \n",
       "7   railcat1  109503   11.860083   \n",
       "8   railcat1  162711   11.653749   \n",
       "9   railcat1   94919   11.596722   \n",
       "10   Butters  155587   10.957694   \n",
       "11   Butters  145524   10.713104   \n",
       "12   Butters    9320   10.518152   \n",
       "13   Butters   18124   10.299882   \n",
       "14   Butters  150443   10.155306   \n",
       "\n",
       "                                         explanations  \n",
       "0   {'sprawlers': 8.232754, 'peewater': 7.7269483,...  \n",
       "1   {'sprawlers': 8.3330555, 'peewater': 8.8262615...  \n",
       "2   {'sprawlers': 7.5451374, 'peewater': 8.011711,...  \n",
       "3   {'sprawlers': 7.917705, 'peewater': 7.823717, ...  \n",
       "4   {'sprawlers': 8.350597, 'peewater': 7.5099983,...  \n",
       "5   {'yummie': 10.32288, 'gostoso': 9.480017, 'tai...  \n",
       "6   {'yummie': 7.951337, 'gostoso': 8.787275, 'tai...  \n",
       "7   {'yummie': 8.3054905, 'gostoso': 8.919725, 'ta...  \n",
       "8   {'yummie': 9.213386, 'gostoso': 8.048883, 'tai...  \n",
       "9   {'yummie': 8.223014, 'gostoso': 6.794215, 'tai...  \n",
       "10  {'usas': 10.942073, 'yummie': 10.32288, 'anti'...  \n",
       "11  {'usas': 9.348207, 'yummie': 7.951337, 'anti':...  \n",
       "12  {'usas': 9.357105, 'yummie': 9.095561, 'anti':...  \n",
       "13  {'usas': 10.106152, 'yummie': 9.908857, 'anti'...  \n",
       "14  {'usas': 8.153448, 'yummie': 7.16291, 'anti': ...  "
      ]
     },
     "execution_count": 9,
     "metadata": {},
     "output_type": "execute_result"
    }
   ],
   "source": [
    "# now, we can explain the recommendations\n",
    "explainer.explain_recommendations(recomendations)"
   ]
  },
  {
   "cell_type": "markdown",
   "metadata": {},
   "source": [
    "### Explain one user-item pair"
   ]
  },
  {
   "cell_type": "code",
   "execution_count": 10,
   "metadata": {},
   "outputs": [
    {
     "name": "stdout",
     "output_type": "stream",
     "text": [
      "For User Ungstrup and Item 4451:\n",
      "Explanation:\n",
      "{'sprawlers': 5.9893904, 'peewater': 5.1125164, 'sympthoms': 5.4541078, 'odiousness': 5.053958}\n"
     ]
    }
   ],
   "source": [
    "# we can explain one recommendation using the 4 most important features\n",
    "one_user = eval_method.train_set.user_ids[0]\n",
    "one_item = eval_method.train_set.item_ids[0]\n",
    "explanation = explainer.explain_one_recommendation_to_user(one_user, one_item, feature_k=4)\n",
    "print(f\"For User {one_user} and Item {one_item}:\")\n",
    "print(\"Explanation:\")\n",
    "print(explanation)"
   ]
  },
  {
   "cell_type": "markdown",
   "metadata": {},
   "source": [
    "### Explain one user-item with ref-item"
   ]
  },
  {
   "cell_type": "code",
   "execution_count": 11,
   "metadata": {},
   "outputs": [
    {
     "data": {
      "text/html": [
       "<div>\n",
       "<style scoped>\n",
       "    .dataframe tbody tr th:only-of-type {\n",
       "        vertical-align: middle;\n",
       "    }\n",
       "\n",
       "    .dataframe tbody tr th {\n",
       "        vertical-align: top;\n",
       "    }\n",
       "\n",
       "    .dataframe thead th {\n",
       "        text-align: right;\n",
       "    }\n",
       "</style>\n",
       "<table border=\"1\" class=\"dataframe\">\n",
       "  <thead>\n",
       "    <tr style=\"text-align: right;\">\n",
       "      <th></th>\n",
       "      <th>user_id</th>\n",
       "      <th>item_id</th>\n",
       "      <th>explanation</th>\n",
       "      <th>ref_item_id</th>\n",
       "      <th>ref_explanation</th>\n",
       "    </tr>\n",
       "  </thead>\n",
       "  <tbody>\n",
       "    <tr>\n",
       "      <th>0</th>\n",
       "      <td>Ungstrup</td>\n",
       "      <td>4451</td>\n",
       "      <td>{'sprawlers': 5.9893904, 'peewater': 5.1125164...</td>\n",
       "      <td>92175</td>\n",
       "      <td>{'sprawlers': 6.864401, 'peewater': 5.6911306,...</td>\n",
       "    </tr>\n",
       "  </tbody>\n",
       "</table>\n",
       "</div>"
      ],
      "text/plain": [
       "    user_id item_id                                        explanation  \\\n",
       "0  Ungstrup    4451  {'sprawlers': 5.9893904, 'peewater': 5.1125164...   \n",
       "\n",
       "  ref_item_id                                    ref_explanation  \n",
       "0       92175  {'sprawlers': 6.864401, 'peewater': 5.6911306,...  "
      ]
     },
     "execution_count": 11,
     "metadata": {},
     "output_type": "execute_result"
    }
   ],
   "source": [
    "# we can also explain a recommendation using a reference item\n",
    "one_user = eval_method.train_set.user_ids[0]\n",
    "one_item = eval_method.train_set.item_ids[0]\n",
    "ref_item = eval_method.train_set.item_ids[10]\n",
    "explanation = explainer.explain_one_with_ref(user_id=one_user, item_id=one_item, ref_item_id=ref_item)\n",
    "explanation"
   ]
  },
  {
   "cell_type": "code",
   "execution_count": 12,
   "metadata": {},
   "outputs": [
    {
     "name": "stdout",
     "output_type": "stream",
     "text": [
      "0    {'sprawlers': 5.9893904, 'peewater': 5.1125164...\n",
      "Name: explanation, dtype: object\n",
      "0    {'sprawlers': 6.864401, 'peewater': 5.6911306,...\n",
      "Name: ref_explanation, dtype: object\n"
     ]
    }
   ],
   "source": [
    "# explanation for user-item\n",
    "print(explanation['explanation'])\n",
    "# and explanation for user-ref_item\n",
    "print(explanation['ref_explanation'])"
   ]
  },
  {
   "cell_type": "markdown",
   "metadata": {},
   "source": [
    "### Generate plot for Exp_EFM"
   ]
  },
  {
   "cell_type": "code",
   "execution_count": null,
   "metadata": {},
   "outputs": [],
   "source": [
    "# add also add some visualisations\n",
    "users = eval_method.test_set.user_ids\n",
    "recommendations = efm.recommend_to_multiple_users(users, k=10)\n",
    "explanations = explainer.explain_recommendations(recommendations, feature_k=8)\n",
    "explanations_df = explanations.copy()\n"
   ]
  },
  {
   "cell_type": "code",
   "execution_count": 14,
   "metadata": {},
   "outputs": [],
   "source": [
    "from cornac.visualization import Visualization\n",
    "my_plots = Visualization()\n",
    "\n",
    "# Create a plot for a specific user and item\n",
    "one_user = eval_method.train_set.user_ids[15]\n",
    "one_item = eval_method.train_set.item_ids[0]\n",
    "find_df = my_plots.create_individual_feature_importance_plot(\n",
    "    explanations,\n",
    "    user_id=one_user,\n",
    "    item_id=one_item,\n",
    "    type=\"bar\",\n",
    "    top_k=8,\n",
    "    save_plot=False,\n",
    ")"
   ]
  },
  {
   "cell_type": "code",
   "execution_count": 15,
   "metadata": {},
   "outputs": [
    {
     "name": "stderr",
     "output_type": "stream",
     "text": [
      "/opt/anaconda3/envs/rose/lib/python3.10/site-packages/IPython/core/pylabtools.py:77: DeprecationWarning: backend2gui is deprecated since IPython 8.24, backends are managed in matplotlib and can be externally registered.\n",
      "  warnings.warn(\n",
      "/opt/anaconda3/envs/rose/lib/python3.10/site-packages/IPython/core/pylabtools.py:77: DeprecationWarning: backend2gui is deprecated since IPython 8.24, backends are managed in matplotlib and can be externally registered.\n",
      "  warnings.warn(\n",
      "/opt/anaconda3/envs/rose/lib/python3.10/site-packages/IPython/core/pylabtools.py:77: DeprecationWarning: backend2gui is deprecated since IPython 8.24, backends are managed in matplotlib and can be externally registered.\n",
      "  warnings.warn(\n",
      "/Users/yuky/Desktop/ROSE/cornac/visualization/visualization.py:297: UserWarning: set_ticklabels() should only be used with a fixed number of ticks, i.e. after set_ticks() or using a FixedLocator.\n",
      "  axes[0].set_xticklabels(x_count, rotation=45)\n",
      "/Users/yuky/Desktop/ROSE/cornac/visualization/visualization.py:299: UserWarning: set_ticklabels() should only be used with a fixed number of ticks, i.e. after set_ticks() or using a FixedLocator.\n",
      "  axes[1].set_xticklabels(x_coeff, rotation=45)\n"
     ]
    },
    {
     "data": {
      "image/png": "[encoded data removed]",
      "text/plain": [
       "<Figure size 2000x1000 with 2 Axes>"
      ]
     },
     "metadata": {},
     "output_type": "display_data"
    }
   ],
   "source": [
    "from cornac.visualization import Visualization\n",
    "my_plots = Visualization()\n",
    "\n",
    "# create plots across the dataset\n",
    "filtered_df = my_plots.create_aggregate_feature_importance_plot(\n",
    "    explanations, type=\"bar\", top_k=8, save_plot=False)"
   ]
  },
  {
   "cell_type": "markdown",
   "metadata": {},
   "source": [
    "## Experiment"
   ]
  },
  {
   "cell_type": "code",
   "execution_count": null,
   "metadata": {},
   "outputs": [],
   "source": [
    "from cornac.datasets import amazon_toy\n",
    "from cornac.data.reader import Reader\n",
    "from cornac.eval_methods import RatioSplit\n",
    "from cornac.data.sentiment import SentimentModality\n",
    "\n",
    "from cornac.models import EFM\n",
    "from cornac.explainer import Exp_EFM\n",
    "from cornac.experiment import Experiment_Explainers\n",
    "\n",
    "from cornac.metrics_explainer import (Metric_Exp_DIV as DIV, Metric_Exp_EnDCG as EnDCG)\n",
    "\n",
    "rating = amazon_toy.load_feedback(fmt=\"UIRT\", reader=Reader(min_user_freq=50))\n",
    "sentiment_data = amazon_toy.load_sentiment(reader=Reader(min_user_freq=50))\n",
    "rating = rating[:500]\n",
    "\n",
    "md = SentimentModality(data=sentiment_data)\n",
    "\n",
    "eval_method = RatioSplit(\n",
    "    data=rating,\n",
    "    group_by=\"user\",\n",
    "    chrono=True,\n",
    "    sentiment=md,\n",
    "    test_size=0.2,\n",
    "    exclude_unknowns=True,\n",
    "    verbose=True,\n",
    ")\n",
    "\n",
    "efm = EFM(max_iter=20)\n",
    "efm_exp = Exp_EFM(rec_model=efm, dataset=eval_method.train_set)\n",
    "\n",
    "# initialize the models and metrics\n",
    "rec_exp_pairs = [(efm, efm_exp)]\n",
    "exp_metrics = [DIV(), EnDCG()]\n",
    "\n",
    "# initialize experiment\n",
    "experiment = Experiment_Explainers(\n",
    "    eval_method=eval_method,\n",
    "    models=rec_exp_pairs,\n",
    "    metrics=exp_metrics,\n",
    "    distribution=False,\n",
    "    eval_train=True,\n",
    ")\n",
    "experiment.run()"
   ]
  },
  {
   "cell_type": "code",
   "execution_count": null,
   "metadata": {},
   "outputs": [],
   "source": [
    "from cornac.experiment import Experiment_Explainers\n",
    "from cornac.models import EFM, MTER\n",
    "from cornac.explainer import Exp_EFM, Exp_MTER\n",
    "\n",
    "from cornac.datasets import amazon_toy\n",
    "from cornac.data.reader import Reader\n",
    "from cornac.eval_methods import StratifiedSplit\n",
    "from cornac.data.sentiment import SentimentModality\n",
    "from cornac.metrics_explainer import Metric_Exp_DIV\n",
    "\n",
    "rating = amazon_toy.load_feedback(fmt=\"UIRT\", reader=Reader(min_user_freq=50))\n",
    "sentiment_data = amazon_toy.load_sentiment(reader=Reader(min_user_freq=50))\n",
    "\n",
    "md = SentimentModality(data=sentiment_data)\n",
    "\n",
    "eval_method = StratifiedSplit(\n",
    "    data=rating,\n",
    "    group_by=\"user\",\n",
    "    chrono=True,\n",
    "    sentiment=md,\n",
    "    test_size=0.2,\n",
    "    exclude_unknowns=True,\n",
    "    verbose=True,\n",
    ")\n",
    "\n",
    "# initialize recommenders and explainers\n",
    "efm = EFM(max_iter=20)\n",
    "efm_exp = Exp_EFM(rec_model=efm, dataset=eval_method.train_set)\n",
    "\n",
    "mter = MTER(max_iter=20)\n",
    "mter_exp = Exp_MTER(rec_model=mter, dataset=eval_method.train_set)\n",
    "\n",
    "# fit the recommenders\n",
    "efm.fit(eval_method.train_set)\n",
    "mter.fit(eval_method.train_set)\n",
    "\n",
    "# initialize metrics\n",
    "div = Metric_Exp_DIV()\n",
    "\n",
    "# initialize experiment\n",
    "rec_exp_pairs = [(efm, efm_exp), (mter, mter_exp)]\n",
    "exp_metrics = [div]\n",
    "\n",
    "experiment = Experiment_Explainers(eval_method=eval_method, models=rec_exp_pairs, metrics=exp_metrics, distribution=False,  eval_train=True)\n",
    "experiment.run()"
   ]
  }
 ],
 "metadata": {
  "kernelspec": {
   "display_name": "rose",
   "language": "python",
   "name": "python3"
  },
  "language_info": {
   "codemirror_mode": {
    "name": "ipython",
    "version": 3
   },
   "file_extension": ".py",
   "mimetype": "text/x-python",
   "name": "python",
   "nbconvert_exporter": "python",
   "pygments_lexer": "ipython3",
   "version": "3.10.16"
  }
 },
 "nbformat": 4,
 "nbformat_minor": 2
}
